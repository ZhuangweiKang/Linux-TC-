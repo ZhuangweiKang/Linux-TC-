{
 "cells": [
  {
   "cell_type": "markdown",
   "metadata": {},
   "source": [
    "# Linux TC 带宽管理队列规则"
   ]
  },
  {
   "cell_type": "markdown",
   "metadata": {},
   "source": [
    "### 原理：利用队列（Qdisc）控制数据发送的方式"
   ]
  },
  {
   "cell_type": "markdown",
   "metadata": {},
   "source": [
    "<img src=\"./package_flow.png\" width=\"600\" alt=\"package flow\" />"
   ]
  },
  {
   "cell_type": "markdown",
   "metadata": {},
   "source": [
    "\n",
    "报文分组从输入网卡接收进来，经过路由查找，已确定是发给本机的，还是需要转发的。如果是发给本机的，就向上递交给上层协议，如TCP，如果是转发的就从输出网卡发出。***网络流量的控制通常发生在输出网卡处。*** 原因是我们无法控制自己网络之外的设备，因此在入口处控制流量较难。\n"
   ]
  },
  {
   "cell_type": "markdown",
   "metadata": {},
   "source": [
    "### 基本概念"
   ]
  },
  {
   "cell_type": "markdown",
   "metadata": {},
   "source": [
    "- 队列：每个网卡都与一个队列相联系，每当内核需要将报文分组从网卡发送出去，都会首先将该报文分组添加到该网卡所配置的队列中，由该队列决定报文分组的发送顺序。\n",
    "- 队列规则(queuing discipline, qdisc)：队列决定报文分组的发送顺序所依据的规则，即管理设备输入（ingress）和输出（egress）的算法"
   ]
  },
  {
   "cell_type": "markdown",
   "metadata": {},
   "source": [
    "### 分类"
   ]
  },
  {
   "cell_type": "markdown",
   "metadata": {},
   "source": [
    "1. 无类队列规则\n",
    "    - pfifo_fast\n",
    "    - 令牌桶过滤器（TBF）\n",
    "    - 随机公平队列（SFQ）\n",
    "2. 分类的队列规则\n",
    "    - PRIO队列规则\n",
    "    - CBQ队列规则\n",
    "    - HTB队列规则（分层令牌桶）\n",
    "    - IMQ（Intermediate queueing device, 中介队列设备）"
   ]
  },
  {
   "cell_type": "markdown",
   "metadata": {},
   "source": [
    "### 1. 无类队列规则"
   ]
  },
  {
   "cell_type": "markdown",
   "metadata": {},
   "source": [
    "- **对于无类队列规则来说，网卡对报文不进行类别划分，只进行流量整形，无类队列能够对接收到的数据重新编排，设置延迟和丢包。**"
   ]
  },
  {
   "cell_type": "markdown",
   "metadata": {},
   "source": [
    "- **pfifo_fast：（硬性的缺省配置，不能用TC命令对它进行配置）**\n",
    "    * 此规则将收到的数据包按照FIFO的原则进行转发，不对数据包进行任何特殊处理。这个队列有三个频道（band）。FIFO规则应用于每一个频道。并且：如果0频道有数据包等待发送，1频道的包就不会被处理，1频道和2频道之间的关系也是如此。\n",
    "    * priomap:\n",
    "    此规则为内核规则，根据数据包的优先权情况，映射到相应的频道。这个映射过程是根据数据包的TOS(Type of Service)字节进行的。\n",
    "        - TOS字节的格式：<br/>\n",
    "            ![TOS](TOS.png)\n",
    "            ![TOS Bits](TOS_Bits.png)\n",
    "        - TOS字节的4个bits定义如下：<br/>\n",
    "            ![TOS Mean](TOS_mean.png)\n",
    "        - 频道(band)划分规则如下:<br/>\n",
    "            ![TOS Bands](TOS_bands.png)\n",
    "    * tx queuelen: \n",
    "        - 队列的长度来自网卡的配置，可用ifconfig和ip命令修改。<br> 如设置队列长度为10，执行：ifconfig eth0 txqueuelen 10（不能用tc命令设置这个）。"
   ]
  },
  {
   "cell_type": "markdown",
   "metadata": {},
   "source": [
    "- **令牌桶过滤器(TBF, Token Bucket Filter)**\n",
    "    * 只允许以不超过事先设定的速率到来的数据包通过，但可能允许短暂突发流量超过设定值。\n",
    "    * TBF的实现在于一个缓冲器（桶），该缓冲器（桶）不断地被一些叫做”令牌”的虚拟数据以特定速率(token rate)填充着。桶最重要的参数就是它的大小，也就是它能够存储令牌的数量。\n",
    "    * *每个到来的令牌从数据队列中收集一个数据包，然后从桶中被删除*。因此这个算法关联在两个流上--令牌流和数据流。\n",
    "    \n",
    "    * **令牌桶算法**\n",
    "        - 目的: 为了防止网络拥塞，限制流出网络的流量，使流量以比较均匀的速度向外发送，并且允许突发数据的发送。\n",
    "        - 大小固定的令牌桶可以以恒定的速率源源不断地产生令牌，知道令牌充满整个令牌桶，则后面产生的令牌就会被丢弃。即任何时候的令牌数量都不会超过令牌桶的最大容量。\n",
    "        \n",
    "        - 三种情况：\n",
    "            1. **V(数据流) = V(令牌流)，每个到来的数据包都能对应一个令牌，然后无延迟地通过队列；**\n",
    "            2. **V(数据流) < V(令牌流)，通过队列的数据只能消耗掉一部分令牌，剩下的令牌会在令牌桶中积累下来，知道令牌桶被装满。剩下的令牌可以再需要以高于令牌流速率发送数据流的时候消耗掉，这种情况即为突发传输；**\n",
    "            3. **V(数据流) > V(令牌流)， 意味着桶内令牌会被很快耗尽，导致TBF中断一段时间，称为越限(overlimit)。如果数据包持续到来，将发生丢包。**\n",
    "        \n",
    "        - 参数使用：\n",
    "            1. limit/latency\n",
    "                > limit确定最多有多少数据（字节数）在队列中等待令牌。你也可以通过设置latency来指定这个参数，latency参数确定了一个包在TBF中等待传输的最长等待时间。两者计算决定桶的大小、速率和峰值速率。\n",
    "            \n",
    "            2. burst/buffer/maxburst\n",
    "                > 桶的大小，以字节计。这个参数指定了最多可以有多少个令牌能够即刻被使用。通常，管理的带宽越大，需要的缓冲器就越大。在Intel体系上，10Mbit/s的速率需要至少10k字节的缓冲区才能达到期望的速率。如果你的缓冲区太小，就会导致到达的令牌没有地方放（桶满了），这会导致潜在的丢包。\n",
    "\n",
    "            3. MPU\n",
    "                > 一个零长度的包并不是不耗费带宽。比如以太网，数据帧不会小于64字节。MPU(Minimum Packet Unit，最小分组单元)决定了令牌的最低消耗。\n",
    "\n",
    "            4. rate\n",
    "                > 速度操纵杆，rate = limit/latency\n",
    "            \n",
    "            5. peakrate（峰值速率）\n",
    "                >  如果有可用的令牌，数据包一旦到来就会立刻被发送出去，就像光速一样。那可能并不是你希望的，特别是你有一个比较大的桶的时候。峰值速率可以用来指定令牌以多快的速度被删除。用书面语言来说，就是：**释放一个数据包，然后等待足够的时间后再释放下一个**。我们通过计算等待时间来控制峰值速率。例如：UNIX定时器的分辨率是10毫秒，如果平均包长10kb，我们的峰值速率被限制在了1Mbps。\n",
    "            \n",
    "        - 配置范例：\n",
    "            ```sh\n",
    "            tc qdisc add dev ppp0 root tbf rate 220kbit latency 50ms burst 1540\n",
    "            ```"
   ]
  },
  {
   "cell_type": "markdown",
   "metadata": {},
   "source": [
    "- **随机公平队列（Stochastic Fairness Queueing, SFQ）**\n",
    "    * SFQ的关键词是**会话**和**流**，主要针对一个TCP会话或者UDP流。流量被分成相当多数量的FIFO队列，每一个队列对应一个会话。数据按照简单轮转的方式发送，每个会话都按顺序得到发送机会。\n",
    "    * SFQ中随机的含义为，它并不是真的为每一个会话创建一个队列，而是使用一个散列算法，把所有会话映射到有限的几个队列中去。因为使用了散列，所以可能多个会话分配到同一个队列中，从而需要共享发包的机会，也就是共享带宽。为了不让这种效应太明显，SFQ会频繁地改变散列算法，以便把这种效应控制在几秒钟之内。\n",
    "    * **只有当你的输出网卡确实已经挤满了的时候，SFQ才会起作用！否则在你的Linux机器中根本就不会有队列，SFQ也就不会起作用。**\n",
    "    * 参数使用\n",
    "        1. perturb: 多少秒后重新设置一次散列算法。如果取消设置，散列算法将永远不会重新设置。10秒应该是一个合适的值。\n",
    "        2. quantum: 一个流至少要传输多少字节后切换到下一个队列。缺省设置一个最大包的长度（MTU的大小）。不要设置这个数值低于MTU！\n",
    "    * 配置范例\n",
    "    ```sh\n",
    "    tc qdisc add dev ppp0 root sfq perturb 10\n",
    "    ```"
   ]
  },
  {
   "cell_type": "code",
   "execution_count": null,
   "metadata": {},
   "outputs": [],
   "source": []
  }
 ],
 "metadata": {
  "kernelspec": {
   "display_name": "Python 3",
   "language": "python",
   "name": "python3"
  },
  "language_info": {
   "codemirror_mode": {
    "name": "ipython",
    "version": 3
   },
   "file_extension": ".py",
   "mimetype": "text/x-python",
   "name": "python",
   "nbconvert_exporter": "python",
   "pygments_lexer": "ipython3",
   "version": "3.6.4"
  }
 },
 "nbformat": 4,
 "nbformat_minor": 2
}
